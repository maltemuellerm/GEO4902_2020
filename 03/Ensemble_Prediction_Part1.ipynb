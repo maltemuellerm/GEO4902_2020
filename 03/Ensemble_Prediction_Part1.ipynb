{
 "cells": [
  {
   "cell_type": "markdown",
   "metadata": {},
   "source": [
    "# Ensemble prediction of a precipitation extreme event"
   ]
  },
  {
   "cell_type": "code",
   "execution_count": null,
   "metadata": {},
   "outputs": [],
   "source": [
    "# Activate the following in colab : \n",
    "!pip3 install netCDF4\n",
    "!apt install proj-bin libproj-dev libgeos-dev\n",
    "!pip install https://github.com/matplotlib/basemap/archive/master.zip\n",
    "    \n",
    "import xarray as xr\n",
    "import math\n",
    "import numpy as np"
   ]
  },
  {
   "cell_type": "markdown",
   "metadata": {},
   "source": [
    "#### Load ensemble forecast"
   ]
  },
  {
   "cell_type": "code",
   "execution_count": null,
   "metadata": {},
   "outputs": [],
   "source": [
    "year =  ''\n",
    "day  =  ''\n",
    "month = ''\n",
    "hour_1  =''\n",
    "\n",
    "url='https://thredds.met.no/thredds/dodsC/meps25epsarchive/' +year+'/'+month+'/'+day+'/meps_extracted_2_5km_'+year+month+day+'T'+hour_1+'Z.nc'\n",
    "forecast_1 = xr.open_dataset(url)\n"
   ]
  },
  {
   "cell_type": "markdown",
   "metadata": {},
   "source": [
    "### Plot forecast on a map\n",
    "(Example plots the precipitation at timestep 36, i.e. accumulated over 36 hours.)"
   ]
  },
  {
   "cell_type": "code",
   "execution_count": null,
   "metadata": {},
   "outputs": [],
   "source": [
    "from mpl_toolkits.basemap import Basemap\n",
    "\n",
    "timestep_1=36\n",
    "mlevel=0\n",
    "memb=2 # Ensemble member\n",
    "\n",
    "fig = plt.figure(figsize=(7.2,7.2)) #11.7\n",
    "plt.subplots_adjust(left=0.05, right=0.95, top=0.90, bottom=0.05, wspace=0.15, hspace=0.05)\n",
    "ax = plt.subplot(111)\n",
    "m = Basemap(projection='stere', \n",
    "            boundinglat=60, lon_0=10, lat_0=60.4, \n",
    "            resolution='l', \n",
    "            llcrnrlat= 58.0, urcrnrlat=62.0, llcrnrlon=5.0, urcrnrlon=15.0)\n",
    " \n",
    "m.drawcoastlines(color='#4D5D53'); m.fillcontinents(alpha=0.2)\n",
    "parallels = np.arange(0.,90,2); m.drawparallels(parallels,labels=[1,1,1,0],fontsize=10)\n",
    "meridians = np.arange(0.,360.,2); m.drawmeridians(meridians,labels=[0,0,0,1],latmax=80,fontsize=10)\n",
    "\n",
    "x, y = m(np.array(forecast_1.longitude),np.array(forecast_1.latitude))               # compute map proj coordinates.\n",
    "\n",
    "cs=m.contourf(x,y,np.array( forecast_1.precipitation_amount_acc[timestep_1,mlevel,memb,:,:]),cmap=plt.cm.coolwarm,extemd='max')\n",
    "\n",
    "plt.title (np.datetime_as_string(forecast_1.time[timestep_1],unit='h'))\n",
    "cbar = m.colorbar(cs,location='bottom',pad=\"5%\")  \n",
    "cbar.set_label('Accumulated precipitation in mm')                  "
   ]
  },
  {
   "cell_type": "code",
   "execution_count": null,
   "metadata": {},
   "outputs": [],
   "source": []
  }
 ],
 "metadata": {
  "kernelspec": {
   "display_name": "Python 3",
   "language": "python",
   "name": "python3"
  },
  "language_info": {
   "codemirror_mode": {
    "name": "ipython",
    "version": 3
   },
   "file_extension": ".py",
   "mimetype": "text/x-python",
   "name": "python",
   "nbconvert_exporter": "python",
   "pygments_lexer": "ipython3",
   "version": "3.6.9"
  }
 },
 "nbformat": 4,
 "nbformat_minor": 2
}
