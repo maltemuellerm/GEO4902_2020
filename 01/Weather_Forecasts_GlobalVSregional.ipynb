{
 "cells": [
  {
   "cell_type": "markdown",
   "metadata": {},
   "source": [
    "# Access and plot AROME MetCoOp and ECMWF IFS forecasts\n",
    "## Example for an extreme precipitation event in October 2014 in West Norway"
   ]
  },
  {
   "cell_type": "code",
   "execution_count": null,
   "metadata": {},
   "outputs": [],
   "source": [
    "# Activate the following in colab : \n",
    "!pip3 install netCDF4\n",
    "!apt install proj-bin libproj-dev libgeos-dev\n",
    "!pip install https://github.com/matplotlib/basemap/archive/master.zip\n",
    "    \n",
    "import xarray as xr"
   ]
  },
  {
   "cell_type": "markdown",
   "metadata": {},
   "source": [
    "##### Specifiy input fields: AROME MetCoOp and ECMWF IFS forecasts"
   ]
  },
  {
   "cell_type": "code",
   "execution_count": null,
   "metadata": {},
   "outputs": [],
   "source": [
    "day='26'; month='10'; year='2014'; HH='12'\n",
    "\n",
    "url='https://thredds.met.no/thredds/dodsC/aromemetcoopstarc/'+str(year)+'/'+str(month)+'/'+str(day)+'/AROME_MetCoOp_'+str(HH)+'_fp.nc_'+str(year)+str(month)+str(day)\n",
    "arome = xr.open_dataset(url)\n",
    "\n",
    "url='https://thredds.met.no/thredds/dodsC/metusers/maltem/GEO4902_2020/Arctic.ECMWF_extracted_'+str(year)+str(month)+str(day)+'T'+str(HH)+'Z.nc'\n",
    "ecifs =  xr.open_dataset(url)"
   ]
  },
  {
   "cell_type": "markdown",
   "metadata": {},
   "source": [
    "### Find a specific point and plot the forecast. \n",
    "###### Note AROME MetCoOp is on an irregular grid, so the xarray.sel functionality does not work. But it does work for the ECMWF IFS grid (see below)"
   ]
  },
  {
   "cell_type": "code",
   "execution_count": null,
   "metadata": {},
   "outputs": [],
   "source": [
    "import math\n",
    "import numpy as np\n",
    "\n",
    "def findindex(alat,alon,plat,plon):\n",
    "    #finding identical location of pos plat, plon in array alat[],alon[]\n",
    "    abslat = np.abs(alat-plat)\n",
    "    abslon = np.abs(alon-plon)\n",
    "    c = np.maximum(abslon,abslat)\n",
    "    latlon_idx = np.argmin(c)\n",
    "    x, y = np.where(c == np.min(c))\n",
    "    #print(alats[x,y],alon[x,y])\n",
    "    x=int(x)\n",
    "    y=int(y)\n",
    "   \n",
    "    return (x,y)"
   ]
  },
  {
   "cell_type": "code",
   "execution_count": null,
   "metadata": {},
   "outputs": [],
   "source": [
    "lat0=60.3833; lon0=5.9500 # Kvamskogen in Western Norway\n",
    "\n",
    "[ix,jx] = findindex(arome.latitude,arome.longitude,lat0,lon0) # from regional model AROME MetCoOp\n"
   ]
  },
  {
   "cell_type": "markdown",
   "metadata": {},
   "source": [
    "### The ECMWF IFS precipitation is subdivided into large scale or stratiform precipitation (LSP) and convective precipitation (TP-LSP)"
   ]
  },
  {
   "cell_type": "code",
   "execution_count": null,
   "metadata": {},
   "outputs": [],
   "source": [
    "ecifs"
   ]
  },
  {
   "cell_type": "code",
   "execution_count": null,
   "metadata": {},
   "outputs": [],
   "source": [
    "pp_acc_point_arome = arome.precipitation_amount_acc[:,0,ix,jx]\n",
    "pp_acc_point_ecifs = ecifs.sel(lat=lat0,lon=lon0,method='nearest')"
   ]
  },
  {
   "cell_type": "code",
   "execution_count": null,
   "metadata": {},
   "outputs": [],
   "source": [
    "from matplotlib import pyplot as plt\n",
    "\n",
    "plt.plot(arome.time, pp_acc_point_arome, '-',label='AROME MetCoOp')\n",
    "plt.plot(ecifs.time, pp_acc_point_ecifs.TP*1000,'-',label='EC Total Precip.')\n",
    "plt.plot(ecifs.time, pp_acc_point_ecifs.LSP*1000, '--',label='EC Large Scale Precip.')\n",
    "plt.plot(ecifs.time, (pp_acc_point_ecifs.TP-pp_acc_point_ecifs.LSP)*1000, '--',label='EC Convective Precip.')\n",
    "\n",
    "plt.title(\"Kvamskogen Accumulated Precipitation Forecast\")\n",
    "plt.legend()\n",
    "plt.show()"
   ]
  },
  {
   "cell_type": "markdown",
   "metadata": {},
   "source": [
    "### Plot the two accumulated precipitation forecasts on a map"
   ]
  },
  {
   "cell_type": "code",
   "execution_count": null,
   "metadata": {},
   "outputs": [],
   "source": [
    "from mpl_toolkits.basemap import Basemap\n",
    "import matplotlib.gridspec as gridspec\n",
    "\n",
    "timestep=24 # 24-hour accumulated precipitation\n",
    "levelsPP = range(0,100,10)\n",
    "\n",
    "fig = plt.figure(figsize=(7.2,7.2)) \n",
    "gs = gridspec.GridSpec(1, 2)\n",
    "plt.subplots_adjust(left=0.05, right=0.95, top=0.90, bottom=0.05, wspace=0.15, hspace=0.05)\n",
    "\n",
    "m = Basemap(projection='stere', \n",
    "            boundinglat=57, lon_0=20, lat_0=62.4, \n",
    "            resolution='l', \n",
    "            llcrnrlat= 57.0, urcrnrlat=72.0, llcrnrlon=5.0, urcrnrlon=30.0)\n",
    "\n",
    "# PLOT (1) REGIONAL MODEL\n",
    "\n",
    "ax = plt.subplot(gs[0],aspect='equal')\n",
    "m.drawcoastlines(color='#4D5D53'); m.fillcontinents(alpha=0.2)\n",
    "parallels = np.arange(0.,90,10); m.drawparallels(parallels,labels=[1,1,1,0],fontsize=10)\n",
    "meridians = np.arange(0.,360.,10); m.drawmeridians(meridians,labels=[0,0,0,1],latmax=80,fontsize=10)\n",
    "x, y = m(np.array(arome.longitude),np.array(arome.latitude))               # compute map proj coordinates.\n",
    "cs=m.contourf(x,y,np.array( arome.precipitation_amount_acc[timestep,0,:,:]),\n",
    "              cmap=plt.cm.coolwarm,extemd='max',levels=levelsPP)\n",
    "\n",
    "plt.title ('AROME MetCoOp '+np.datetime_as_string(arome.time[0],unit='h'))\n",
    "cbar = m.colorbar(cs,location='bottom',pad=\"5%\")  \n",
    "cbar.set_label('24-hour accumulated precipitation')    \n",
    "\n",
    "\n",
    "# PLOT (2) GLOBAL MODEL\n",
    "ax = plt.subplot(gs[1],aspect='equal')\n",
    "m.drawcoastlines(color='#4D5D53'); m.fillcontinents(alpha=0.2)\n",
    "parallels = np.arange(0.,90,10); m.drawparallels(parallels,labels=[1,1,1,0],fontsize=10)\n",
    "meridians = np.arange(0.,360.,10); m.drawmeridians(meridians,labels=[0,0,0,1],latmax=80,fontsize=10)\n",
    "x, y = m(*np.meshgrid(ecifs.lon,ecifs.lat))\n",
    "cs=m.contourf(x,y,np.array( ecifs.TP[timestep,:,:]*1000),\n",
    "              cmap=plt.cm.coolwarm,extemd='max',levels=levelsPP)\n",
    "plt.title ('ECMWF-IFS '+np.datetime_as_string(ecifs.time[0],unit='h'))\n",
    "cbar = m.colorbar(cs,location='bottom',pad=\"5%\")  \n",
    "cbar.set_label('24-hour accumulated precipitation')    "
   ]
  },
  {
   "cell_type": "code",
   "execution_count": null,
   "metadata": {},
   "outputs": [],
   "source": []
  }
 ],
 "metadata": {
  "kernelspec": {
   "display_name": "Python 3",
   "language": "python",
   "name": "python3"
  },
  "language_info": {
   "codemirror_mode": {
    "name": "ipython",
    "version": 3
   },
   "file_extension": ".py",
   "mimetype": "text/x-python",
   "name": "python",
   "nbconvert_exporter": "python",
   "pygments_lexer": "ipython3",
   "version": "3.6.9"
  }
 },
 "nbformat": 4,
 "nbformat_minor": 2
}
