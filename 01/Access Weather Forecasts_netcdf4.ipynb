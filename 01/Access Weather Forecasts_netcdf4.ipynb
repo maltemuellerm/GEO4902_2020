{
 "cells": [
  {
   "cell_type": "code",
   "execution_count": 2,
   "metadata": {},
   "outputs": [],
   "source": [
    "import netCDF4"
   ]
  },
  {
   "cell_type": "markdown",
   "metadata": {},
   "source": [
    "Specify the file on the thredds server. For example the full file of latest forecast of the AROME Arctic weather model. Note, at this point only metadata is retrieved"
   ]
  },
  {
   "cell_type": "code",
   "execution_count": 33,
   "metadata": {},
   "outputs": [],
   "source": [
    "url='https://thredds.met.no/thredds/dodsC/aromearcticlatest/arome_arctic_full_2_5km_latest.nc'\n",
    "dataset = netCDF4.Dataset(url)"
   ]
  },
  {
   "cell_type": "markdown",
   "metadata": {},
   "source": [
    "Metadata on the variables:"
   ]
  },
  {
   "cell_type": "code",
   "execution_count": 36,
   "metadata": {},
   "outputs": [
    {
     "data": {
      "text/plain": [
       "<class 'netCDF4._netCDF4.Dataset'>\n",
       "root group (NETCDF3_CLASSIC data model, file format DAP2):\n",
       "    Conventions: CF-1.6\n",
       "    institution: Norwegian Meteorological Institute, MET Norway\n",
       "    creator_url: met.no\n",
       "    summary: AROME_Arctic is a convection-permitting atmosphere model covering parts of the Barents Sea and the Nordic Arctic. It has horizontal resolution of 2.5 km and 65 vertical levels. AROME_Arctic runs for 66 hours four times a day (00,06,12,18) with three-hourly cycling for data assimilation. Boundary data is from ECMWF. Model code based on HARMONIE cy40h1.1\n",
       "    source: AROME_Arctic 2.5km\n",
       "    title: AROME_Arctic 2.5km\n",
       "    min_time: 2020-06-10 09:00:00Z\n",
       "    max_time: 2020-06-13\n",
       "    geospatial_lat_min: 62.0\n",
       "    geospatial_lat_max: 88.0\n",
       "    geospatial_lon_min: -18.0\n",
       "    geospatial_lon_max: 80.0\n",
       "    references: unknown\n",
       "    license: https://www.met.no/frie-meteorologiske-data/lisensiering-og-kreditering\n",
       "    comment: none\n",
       "    history: 2020-06-10 creation by fimex\n",
       "    DODS_EXTRA.Unlimited_Dimension: time\n",
       "    dimensions(sizes): time(67), atmosphere_as_single_layer(1), grib1_vLevel6(1), height0(1), height1(1), height2(1), height3(3), height4(1), height5(10), height6(1), height7(1), height_above_msl(1), hybrid(65), top_of_atmosphere(1), x(739), y(949)\n",
       "    variables(dimensions): float64 \u001b[4mtime\u001b[0m(time), float64 \u001b[4mforecast_reference_time\u001b[0m(), float32 \u001b[4mheight_above_msl\u001b[0m(height_above_msl), float32 \u001b[4mheight0\u001b[0m(height0), float32 \u001b[4mheight1\u001b[0m(height1), float32 \u001b[4mheight2\u001b[0m(height2), float32 \u001b[4mheight3\u001b[0m(height3), float32 \u001b[4mheight4\u001b[0m(height4), float32 \u001b[4mheight5\u001b[0m(height5), float32 \u001b[4mheight6\u001b[0m(height6), float32 \u001b[4mheight7\u001b[0m(height7), float64 \u001b[4mhybrid\u001b[0m(hybrid), float64 \u001b[4mp0\u001b[0m(), float64 \u001b[4map\u001b[0m(hybrid), float64 \u001b[4mb\u001b[0m(hybrid), int16 \u001b[4matmosphere_as_single_layer\u001b[0m(atmosphere_as_single_layer), float32 \u001b[4mgrib1_vLevel6\u001b[0m(grib1_vLevel6), int16 \u001b[4mtop_of_atmosphere\u001b[0m(top_of_atmosphere), int32 \u001b[4mprojection_lambert\u001b[0m(), float32 \u001b[4mx\u001b[0m(x), float32 \u001b[4my\u001b[0m(y), float64 \u001b[4mlongitude\u001b[0m(y,x), float64 \u001b[4mlatitude\u001b[0m(y,x), float32 \u001b[4mliquid_water_content_of_surface_snow\u001b[0m(time,height0,y,x), float32 \u001b[4mair_temperature_0m\u001b[0m(time,height0,y,x), int16 \u001b[4mland_area_fraction\u001b[0m(time,height0,y,x), float32 \u001b[4msurface_aerosol_sea\u001b[0m(time,height0,y,x), float32 \u001b[4msurface_aerosol_land\u001b[0m(time,height0,y,x), float32 \u001b[4msurface_aerosol_soot\u001b[0m(time,height0,y,x), float32 \u001b[4msurface_aerosol_desert\u001b[0m(time,height0,y,x), float32 \u001b[4mozone_profile_a\u001b[0m(time,height0,y,x), float32 \u001b[4mozone_profile_b\u001b[0m(time,height0,y,x), float32 \u001b[4mozone_profile_c\u001b[0m(time,height0,y,x), int32 \u001b[4mspecific_humidity_ml\u001b[0m(time,hybrid,y,x), float32 \u001b[4mmass_fraction_of_cloud_condensed_water_in_air_ml\u001b[0m(time,hybrid,y,x), float32 \u001b[4mmass_fraction_of_cloud_ice_in_air_ml\u001b[0m(time,hybrid,y,x), float32 \u001b[4mmass_fraction_of_snow_in_air_ml\u001b[0m(time,hybrid,y,x), int32 \u001b[4mmass_fraction_of_rain_in_air_ml\u001b[0m(time,hybrid,y,x), int32 \u001b[4mmass_fraction_of_graupel_in_air_ml\u001b[0m(time,hybrid,y,x), int32 \u001b[4mturbulent_kinetic_energy_ml\u001b[0m(time,hybrid,y,x), float32 \u001b[4mcloud_area_fraction_ml\u001b[0m(time,hybrid,y,x), float32 \u001b[4mrainfall_amount\u001b[0m(time,height0,y,x), float32 \u001b[4msnowfall_amount\u001b[0m(time,height0,y,x), float32 \u001b[4mgraupelfall_amount\u001b[0m(time,height0,y,x), float32 \u001b[4mtoa_net_downward_shortwave_flux\u001b[0m(time,top_of_atmosphere,y,x), float32 \u001b[4msurface_downwelling_shortwave_flux_in_air\u001b[0m(time,height0,y,x), float32 \u001b[4mtoa_outgoing_longwave_flux\u001b[0m(time,top_of_atmosphere,y,x), float32 \u001b[4msurface_downwelling_longwave_flux_in_air\u001b[0m(time,height0,y,x), float32 \u001b[4mcloud_area_fraction\u001b[0m(time,height3,y,x), float32 \u001b[4mconvective_cloud_area_fraction\u001b[0m(time,height0,y,x), float32 \u001b[4mhigh_type_cloud_area_fraction\u001b[0m(time,height0,y,x), float32 \u001b[4mmedium_type_cloud_area_fraction\u001b[0m(time,height0,y,x), float32 \u001b[4mlow_type_cloud_area_fraction\u001b[0m(time,height0,y,x), float32 \u001b[4mx_wind_10m\u001b[0m(time,height7,y,x), float32 \u001b[4my_wind_10m\u001b[0m(time,height7,y,x), float32 \u001b[4mair_temperature_2m\u001b[0m(time,height1,y,x), float32 \u001b[4mrelative_humidity_2m\u001b[0m(time,height1,y,x), float32 \u001b[4mspecific_humidity_2m\u001b[0m(time,height1,y,x), float32 \u001b[4mair_temperature_min\u001b[0m(time,height1,y,x), float32 \u001b[4mair_temperature_max\u001b[0m(time,height1,y,x), float32 \u001b[4matmosphere_boundary_layer_thickness\u001b[0m(time,height0,y,x), float32 \u001b[4mx_wind_gust_10m\u001b[0m(time,height7,y,x), float32 \u001b[4my_wind_gust_10m\u001b[0m(time,height7,y,x), float32 \u001b[4mhail_diagnostic\u001b[0m(time,height0,y,x), float32 \u001b[4mpressure_departure\u001b[0m(time,hybrid,y,x), int32 \u001b[4mair_temperature_ml\u001b[0m(time,hybrid,y,x), float32 \u001b[4mdivergence_vertical\u001b[0m(time,hybrid,y,x), int32 \u001b[4mx_wind_ml\u001b[0m(time,hybrid,y,x), int32 \u001b[4my_wind_ml\u001b[0m(time,hybrid,y,x), float32 \u001b[4msurface_air_pressure\u001b[0m(time,height0,y,x), float32 \u001b[4msurface_geopotential\u001b[0m(time,height0,y,x), float32 \u001b[4mair_pressure_at_sea_level\u001b[0m(time,height_above_msl,y,x), int32 \u001b[4mupward_air_velocity_ml\u001b[0m(time,hybrid,y,x), float64 \u001b[4mga_133_253_251_200\u001b[0m(time,atmosphere_as_single_layer,y,x), float32 \u001b[4matmosphere_level_of_max_icing\u001b[0m(time,atmosphere_as_single_layer,y,x), float32 \u001b[4matmosphere_level_of_max_icing_growth\u001b[0m(time,atmosphere_as_single_layer,y,x), float32 \u001b[4matmosphere_level_of_icing_bottom\u001b[0m(time,atmosphere_as_single_layer,y,x), float32 \u001b[4matmosphere_level_of_icing_top\u001b[0m(time,atmosphere_as_single_layer,y,x), float64 \u001b[4mga_142_253_251_6\u001b[0m(time,grib1_vLevel6,y,x), float64 \u001b[4mga_164_253_251_6\u001b[0m(time,grib1_vLevel6,y,x), float64 \u001b[4mga_177_253_251_6\u001b[0m(time,grib1_vLevel6,y,x), float32 \u001b[4mcloud_base_altitude\u001b[0m(time,atmosphere_as_single_layer,y,x), float32 \u001b[4mcloud_top_altitude\u001b[0m(time,atmosphere_as_single_layer,y,x), float64 \u001b[4mga_189_253_251_105\u001b[0m(time,height4,y,x), float32 \u001b[4mintegral_graupel_wrt_height\u001b[0m(time,atmosphere_as_single_layer,y,x), float32 \u001b[4mlightning_index\u001b[0m(time,atmosphere_as_single_layer,y,x), float32 \u001b[4mlevel_of_max_CAT_index\u001b[0m(time,atmosphere_as_single_layer,y,x), float32 \u001b[4mmax_cat_index\u001b[0m(time,atmosphere_as_single_layer,y,x), float32 \u001b[4mbottom_level_of_CAT\u001b[0m(time,atmosphere_as_single_layer,y,x), float32 \u001b[4mtop_level_of_CAT\u001b[0m(time,atmosphere_as_single_layer,y,x), float32 \u001b[4mspecific_convective_available_potential_energy\u001b[0m(time,height0,y,x), float32 \u001b[4matmosphere_convective_inhibition\u001b[0m(time,height0,y,x), float32 \u001b[4mvisibility_in_air\u001b[0m(time,height0,y,x), float32 \u001b[4mprecipitation_amount_acc\u001b[0m(time,height0,y,x), float32 \u001b[4mbrunt_vaisala_frequency_in_air\u001b[0m(time,height2,y,x), float32 \u001b[4mintegral_of_surface_downward_latent_heat_flux_wrt_time\u001b[0m(time,height0,y,x), float32 \u001b[4micing_index\u001b[0m(time,height5,y,x), float32 \u001b[4mprecipitation_type\u001b[0m(time,height0,y,x), float32 \u001b[4mfog_area_fraction\u001b[0m(time,height0,y,x), float32 \u001b[4mdownward_northward_momentum_flux_in_air\u001b[0m(time,height0,y,x), float32 \u001b[4mdownward_eastward_momentum_flux_in_air\u001b[0m(time,height0,y,x), float32 \u001b[4mintegral_of_rainfall_amount_wrt_time\u001b[0m(time,height0,y,x), float32 \u001b[4mintegral_of_snowfall_amount_wrt_time\u001b[0m(time,height0,y,x), float32 \u001b[4mintegral_of_graupelfall_amount_wrt_time\u001b[0m(time,height0,y,x), float32 \u001b[4mintegral_of_toa_net_downward_shortwave_flux_wrt_time\u001b[0m(time,top_of_atmosphere,y,x), float32 \u001b[4mintegral_of_surface_net_downward_shortwave_flux_wrt_time\u001b[0m(time,height0,y,x), float32 \u001b[4mintegral_of_toa_outgoing_longwave_flux_wrt_time\u001b[0m(time,top_of_atmosphere,y,x), float32 \u001b[4mintegral_of_surface_net_downward_longwave_flux_wrt_time\u001b[0m(time,height0,y,x), float32 \u001b[4mintegral_of_surface_downward_latent_heat_evaporation_flux_wrt_time\u001b[0m(time,height0,y,x), float32 \u001b[4mintegral_of_surface_downward_latent_heat_sublimation_flux_wrt_time\u001b[0m(time,height0,y,x), float32 \u001b[4mwater_evaporation_amount\u001b[0m(time,height0,y,x), float32 \u001b[4msurface_snow_sublimation_amount_acc\u001b[0m(time,height0,y,x), float32 \u001b[4mintegral_of_surface_downward_sensible_heat_flux_wrt_time\u001b[0m(time,height0,y,x), float32 \u001b[4mintegral_of_toa_net_downward_shortwave_flux_wrt_time_assuming_clear_sky\u001b[0m(time,top_of_atmosphere,y,x), float32 \u001b[4mintegral_of_surface_net_downward_shortwave_flux_wrt_time_assuming_clear_sky\u001b[0m(time,height6,y,x), float32 \u001b[4mintegral_of_toa_net_downward_longwave_flux_wrt_time_assuming_clear_sky\u001b[0m(time,top_of_atmosphere,y,x), float32 \u001b[4mintegral_of_surface_net_downward_longwave_flux_wrt_time_assuming_clear_sky\u001b[0m(time,height6,y,x), float32 \u001b[4mintegral_of_surface_parallel_solar_flux_wrt_time\u001b[0m(time,height0,y,x), float32 \u001b[4mtmp_116_253_251_8\u001b[0m(time,top_of_atmosphere,y,x), float32 \u001b[4mtmp_140_253_251_105\u001b[0m(time,height0,y,x), float32 \u001b[4mintegral_of_surface_downwelling_shortwave_flux_in_air_wrt_time\u001b[0m(time,height0,y,x), float32 \u001b[4mintegral_of_surface_downwelling_longwave_flux_in_air_wrt_time\u001b[0m(time,height0,y,x)\n",
       "    groups: "
      ]
     },
     "execution_count": 36,
     "metadata": {},
     "output_type": "execute_result"
    }
   ],
   "source": [
    "dataset"
   ]
  }
 ],
 "metadata": {
  "kernelspec": {
   "display_name": "Python 3",
   "language": "python",
   "name": "python3"
  },
  "language_info": {
   "codemirror_mode": {
    "name": "ipython",
    "version": 3
   },
   "file_extension": ".py",
   "mimetype": "text/x-python",
   "name": "python",
   "nbconvert_exporter": "python",
   "pygments_lexer": "ipython3",
   "version": "3.6.9"
  }
 },
 "nbformat": 4,
 "nbformat_minor": 2
}
