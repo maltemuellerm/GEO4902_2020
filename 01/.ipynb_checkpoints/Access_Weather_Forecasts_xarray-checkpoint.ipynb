{
 "cells": [
  {
   "cell_type": "code",
   "execution_count": 1,
   "metadata": {},
   "outputs": [],
   "source": [
    "# Activate the following in colab : \n",
    "#!pip3 install netCDF4\n",
    "\n",
    "import xarray as xr"
   ]
  },
  {
   "cell_type": "markdown",
   "metadata": {},
   "source": [
    "Specify the file on the thredds server. For example the full file of latest forecast of the AROME Arctic weather model. Note, at this point only metadata is retrieved"
   ]
  },
  {
   "cell_type": "code",
   "execution_count": 2,
   "metadata": {},
   "outputs": [],
   "source": [
    "url='https://thredds.met.no/thredds/dodsC/aromearcticlatest/arome_arctic_full_2_5km_latest.nc'\n",
    "dataset = xr.open_dataset(url)"
   ]
  },
  {
   "cell_type": "code",
   "execution_count": 3,
   "metadata": {},
   "outputs": [
    {
     "data": {
      "text/plain": [
       "<xarray.Dataset>\n",
       "Dimensions:                                                                      (atmosphere_as_single_layer: 1, grib1_vLevel6: 1, height0: 1, height1: 1, height2: 1, height3: 3, height4: 1, height5: 10, height6: 1, height7: 1, height_above_msl: 1, hybrid: 65, time: 67, top_of_atmosphere: 1, x: 739, y: 949)\n",
       "Coordinates:\n",
       "  * time                                                                         (time) datetime64[ns] 2020-06-10T09:00:00 ... 2020-06-13T03:00:00\n",
       "  * height_above_msl                                                             (height_above_msl) float32 0.0\n",
       "  * height0                                                                      (height0) float32 0.0\n",
       "  * height1                                                                      (height1) float32 2.0\n",
       "  * height2                                                                      (height2) float32 9144.0\n",
       "  * height3                                                                      (height3) float32 0.0 ... 75.0\n",
       "  * height4                                                                      (height4) float32 3.0\n",
       "  * height5                                                                      (height5) float32 150.0 ... 6000.0\n",
       "  * height6                                                                      (height6) float32 65.0\n",
       "  * height7                                                                      (height7) float32 10.0\n",
       "  * hybrid                                                                       (hybrid) float64 0.009869 ... 0.9985\n",
       "  * atmosphere_as_single_layer                                                   (atmosphere_as_single_layer) int16 0\n",
       "  * grib1_vLevel6                                                                (grib1_vLevel6) float32 0.0\n",
       "  * top_of_atmosphere                                                            (top_of_atmosphere) int16 0\n",
       "  * x                                                                            (x) float32 278603.16 ... 2123603.2\n",
       "  * y                                                                            (y) float32 -897931.56 ... 1472068.4\n",
       "    longitude                                                                    (y, x) float64 ...\n",
       "    latitude                                                                     (y, x) float64 ...\n",
       "Data variables:\n",
       "    forecast_reference_time                                                      datetime64[ns] ...\n",
       "    p0                                                                           float64 ...\n",
       "    ap                                                                           (hybrid) float64 ...\n",
       "    b                                                                            (hybrid) float64 ...\n",
       "    projection_lambert                                                           int32 ...\n",
       "    liquid_water_content_of_surface_snow                                         (time, height0, y, x) float32 ...\n",
       "    air_temperature_0m                                                           (time, height0, y, x) float32 ...\n",
       "    land_area_fraction                                                           (time, height0, y, x) float32 ...\n",
       "    surface_aerosol_sea                                                          (time, height0, y, x) float32 ...\n",
       "    surface_aerosol_land                                                         (time, height0, y, x) float32 ...\n",
       "    surface_aerosol_soot                                                         (time, height0, y, x) float32 ...\n",
       "    surface_aerosol_desert                                                       (time, height0, y, x) float32 ...\n",
       "    ozone_profile_a                                                              (time, height0, y, x) float32 ...\n",
       "    ozone_profile_b                                                              (time, height0, y, x) float32 ...\n",
       "    ozone_profile_c                                                              (time, height0, y, x) float32 ...\n",
       "    specific_humidity_ml                                                         (time, hybrid, y, x) float64 ...\n",
       "    mass_fraction_of_cloud_condensed_water_in_air_ml                             (time, hybrid, y, x) float32 ...\n",
       "    mass_fraction_of_cloud_ice_in_air_ml                                         (time, hybrid, y, x) float32 ...\n",
       "    mass_fraction_of_snow_in_air_ml                                              (time, hybrid, y, x) float32 ...\n",
       "    mass_fraction_of_rain_in_air_ml                                              (time, hybrid, y, x) float64 ...\n",
       "    mass_fraction_of_graupel_in_air_ml                                           (time, hybrid, y, x) float64 ...\n",
       "    turbulent_kinetic_energy_ml                                                  (time, hybrid, y, x) float64 ...\n",
       "    cloud_area_fraction_ml                                                       (time, hybrid, y, x) float32 ...\n",
       "    rainfall_amount                                                              (time, height0, y, x) float32 ...\n",
       "    snowfall_amount                                                              (time, height0, y, x) float32 ...\n",
       "    graupelfall_amount                                                           (time, height0, y, x) float32 ...\n",
       "    toa_net_downward_shortwave_flux                                              (time, top_of_atmosphere, y, x) float32 ...\n",
       "    surface_downwelling_shortwave_flux_in_air                                    (time, height0, y, x) float32 ...\n",
       "    toa_outgoing_longwave_flux                                                   (time, top_of_atmosphere, y, x) float32 ...\n",
       "    surface_downwelling_longwave_flux_in_air                                     (time, height0, y, x) float32 ...\n",
       "    cloud_area_fraction                                                          (time, height3, y, x) float32 ...\n",
       "    convective_cloud_area_fraction                                               (time, height0, y, x) float32 ...\n",
       "    high_type_cloud_area_fraction                                                (time, height0, y, x) float32 ...\n",
       "    medium_type_cloud_area_fraction                                              (time, height0, y, x) float32 ...\n",
       "    low_type_cloud_area_fraction                                                 (time, height0, y, x) float32 ...\n",
       "    x_wind_10m                                                                   (time, height7, y, x) float32 ...\n",
       "    y_wind_10m                                                                   (time, height7, y, x) float32 ...\n",
       "    air_temperature_2m                                                           (time, height1, y, x) float32 ...\n",
       "    relative_humidity_2m                                                         (time, height1, y, x) float32 ...\n",
       "    specific_humidity_2m                                                         (time, height1, y, x) float32 ...\n",
       "    air_temperature_min                                                          (time, height1, y, x) float32 ...\n",
       "    air_temperature_max                                                          (time, height1, y, x) float32 ...\n",
       "    atmosphere_boundary_layer_thickness                                          (time, height0, y, x) float32 ...\n",
       "    x_wind_gust_10m                                                              (time, height7, y, x) float32 ...\n",
       "    y_wind_gust_10m                                                              (time, height7, y, x) float32 ...\n",
       "    hail_diagnostic                                                              (time, height0, y, x) float32 ...\n",
       "    pressure_departure                                                           (time, hybrid, y, x) float32 ...\n",
       "    air_temperature_ml                                                           (time, hybrid, y, x) float64 ...\n",
       "    divergence_vertical                                                          (time, hybrid, y, x) float32 ...\n",
       "    x_wind_ml                                                                    (time, hybrid, y, x) float64 ...\n",
       "    y_wind_ml                                                                    (time, hybrid, y, x) float64 ...\n",
       "    surface_air_pressure                                                         (time, height0, y, x) float32 ...\n",
       "    surface_geopotential                                                         (time, height0, y, x) float32 ...\n",
       "    air_pressure_at_sea_level                                                    (time, height_above_msl, y, x) float32 ...\n",
       "    upward_air_velocity_ml                                                       (time, hybrid, y, x) float64 ...\n",
       "    ga_133_253_251_200                                                           (time, atmosphere_as_single_layer, y, x) float64 ...\n",
       "    atmosphere_level_of_max_icing                                                (time, atmosphere_as_single_layer, y, x) float32 ...\n",
       "    atmosphere_level_of_max_icing_growth                                         (time, atmosphere_as_single_layer, y, x) float32 ...\n",
       "    atmosphere_level_of_icing_bottom                                             (time, atmosphere_as_single_layer, y, x) float32 ...\n",
       "    atmosphere_level_of_icing_top                                                (time, atmosphere_as_single_layer, y, x) float32 ...\n",
       "    ga_142_253_251_6                                                             (time, grib1_vLevel6, y, x) float64 ...\n",
       "    ga_164_253_251_6                                                             (time, grib1_vLevel6, y, x) float64 ...\n",
       "    ga_177_253_251_6                                                             (time, grib1_vLevel6, y, x) float64 ...\n",
       "    cloud_base_altitude                                                          (time, atmosphere_as_single_layer, y, x) float32 ...\n",
       "    cloud_top_altitude                                                           (time, atmosphere_as_single_layer, y, x) float32 ...\n",
       "    ga_189_253_251_105                                                           (time, height4, y, x) float64 ...\n",
       "    integral_graupel_wrt_height                                                  (time, atmosphere_as_single_layer, y, x) float32 ...\n",
       "    lightning_index                                                              (time, atmosphere_as_single_layer, y, x) float32 ...\n",
       "    level_of_max_CAT_index                                                       (time, atmosphere_as_single_layer, y, x) float32 ...\n",
       "    max_cat_index                                                                (time, atmosphere_as_single_layer, y, x) float32 ...\n",
       "    bottom_level_of_CAT                                                          (time, atmosphere_as_single_layer, y, x) float32 ...\n",
       "    top_level_of_CAT                                                             (time, atmosphere_as_single_layer, y, x) float32 ...\n",
       "    specific_convective_available_potential_energy                               (time, height0, y, x) float32 ...\n",
       "    atmosphere_convective_inhibition                                             (time, height0, y, x) float32 ...\n",
       "    visibility_in_air                                                            (time, height0, y, x) float32 ...\n",
       "    precipitation_amount_acc                                                     (time, height0, y, x) float32 ...\n",
       "    brunt_vaisala_frequency_in_air                                               (time, height2, y, x) float32 ...\n",
       "    integral_of_surface_downward_latent_heat_flux_wrt_time                       (time, height0, y, x) float32 ...\n",
       "    icing_index                                                                  (time, height5, y, x) float32 ...\n",
       "    precipitation_type                                                           (time, height0, y, x) float32 ...\n",
       "    fog_area_fraction                                                            (time, height0, y, x) float32 ...\n",
       "    downward_northward_momentum_flux_in_air                                      (time, height0, y, x) float32 ...\n",
       "    downward_eastward_momentum_flux_in_air                                       (time, height0, y, x) float32 ...\n",
       "    integral_of_rainfall_amount_wrt_time                                         (time, height0, y, x) float32 ...\n",
       "    integral_of_snowfall_amount_wrt_time                                         (time, height0, y, x) float32 ...\n",
       "    integral_of_graupelfall_amount_wrt_time                                      (time, height0, y, x) float32 ...\n",
       "    integral_of_toa_net_downward_shortwave_flux_wrt_time                         (time, top_of_atmosphere, y, x) float32 ...\n",
       "    integral_of_surface_net_downward_shortwave_flux_wrt_time                     (time, height0, y, x) float32 ...\n",
       "    integral_of_toa_outgoing_longwave_flux_wrt_time                              (time, top_of_atmosphere, y, x) float32 ...\n",
       "    integral_of_surface_net_downward_longwave_flux_wrt_time                      (time, height0, y, x) float32 ...\n",
       "    integral_of_surface_downward_latent_heat_evaporation_flux_wrt_time           (time, height0, y, x) float32 ...\n",
       "    integral_of_surface_downward_latent_heat_sublimation_flux_wrt_time           (time, height0, y, x) float32 ...\n",
       "    water_evaporation_amount                                                     (time, height0, y, x) float32 ...\n",
       "    surface_snow_sublimation_amount_acc                                          (time, height0, y, x) float32 ...\n",
       "    integral_of_surface_downward_sensible_heat_flux_wrt_time                     (time, height0, y, x) float32 ...\n",
       "    integral_of_toa_net_downward_shortwave_flux_wrt_time_assuming_clear_sky      (time, top_of_atmosphere, y, x) float32 ...\n",
       "    integral_of_surface_net_downward_shortwave_flux_wrt_time_assuming_clear_sky  (time, height6, y, x) float32 ...\n",
       "    integral_of_toa_net_downward_longwave_flux_wrt_time_assuming_clear_sky       (time, top_of_atmosphere, y, x) float32 ...\n",
       "    integral_of_surface_net_downward_longwave_flux_wrt_time_assuming_clear_sky   (time, height6, y, x) float32 ...\n",
       "    integral_of_surface_parallel_solar_flux_wrt_time                             (time, height0, y, x) float32 ...\n",
       "    tmp_116_253_251_8                                                            (time, top_of_atmosphere, y, x) float32 ...\n",
       "    tmp_140_253_251_105                                                          (time, height0, y, x) float32 ...\n",
       "    integral_of_surface_downwelling_shortwave_flux_in_air_wrt_time               (time, height0, y, x) float32 ...\n",
       "    integral_of_surface_downwelling_longwave_flux_in_air_wrt_time                (time, height0, y, x) float32 ...\n",
       "Attributes:\n",
       "    Conventions:                     CF-1.6\n",
       "    institution:                     Norwegian Meteorological Institute, MET ...\n",
       "    creator_url:                     met.no\n",
       "    summary:                         AROME_Arctic is a convection-permitting ...\n",
       "    source:                          AROME_Arctic 2.5km\n",
       "    title:                           AROME_Arctic 2.5km\n",
       "    min_time:                        2020-06-10 09:00:00Z\n",
       "    max_time:                        2020-06-13\n",
       "    geospatial_lat_min:              62.0\n",
       "    geospatial_lat_max:              88.0\n",
       "    geospatial_lon_min:              -18.0\n",
       "    geospatial_lon_max:              80.0\n",
       "    references:                      unknown\n",
       "    license:                         https://www.met.no/frie-meteorologiske-d...\n",
       "    comment:                         none\n",
       "    history:                         2020-06-10 creation by fimex\n",
       "    DODS_EXTRA.Unlimited_Dimension:  time"
      ]
     },
     "execution_count": 3,
     "metadata": {},
     "output_type": "execute_result"
    }
   ],
   "source": [
    "dataset"
   ]
  },
  {
   "cell_type": "markdown",
   "metadata": {},
   "source": [
    "Find a point forecast. Note AROME Arctic is on an irregular grid, so the xarray.sel functionality does not work:"
   ]
  },
  {
   "cell_type": "code",
   "execution_count": 12,
   "metadata": {},
   "outputs": [],
   "source": [
    "import math\n",
    "import numpy as np\n",
    "\n",
    "def findindex(alat,alon,plat,plon):\n",
    "    #finding identical location of pos plat, plon in array alat[],alon[]\n",
    "    abslat = np.abs(alat-plat)\n",
    "    abslon = np.abs(alon-plon)\n",
    "    c = np.maximum(abslon,abslat)\n",
    "    latlon_idx = np.argmin(c)\n",
    "    x, y = np.where(c == np.min(c))\n",
    "    #print(alats[x,y],alon[x,y])\n",
    "    x=int(x)\n",
    "    y=int(y)\n",
    "   \n",
    "    return (x,y)"
   ]
  },
  {
   "cell_type": "code",
   "execution_count": 18,
   "metadata": {},
   "outputs": [],
   "source": [
    "[ix,jx] = findindex(dataset.latitude,dataset.longitude,78.24,15.46) # For example for Longyearbyen"
   ]
  },
  {
   "cell_type": "code",
   "execution_count": 22,
   "metadata": {},
   "outputs": [],
   "source": [
    "t2m_point = dataset.air_temperature_2m[:,0,ix,jx]"
   ]
  },
  {
   "cell_type": "code",
   "execution_count": 25,
   "metadata": {},
   "outputs": [
    {
     "data": {
      "image/png": "[encoded data removed]",
      "text/plain": [
       "<matplotlib.figure.Figure at 0x7fb7e987b7b8>"
      ]
     },
     "metadata": {},
     "output_type": "display_data"
    }
   ],
   "source": [
    "from matplotlib import pyplot as plt\n",
    "\n",
    "plt.plot(dataset.time, t2m_point, '-')\n",
    "\n",
    "plt.title(\"Longyearbyen Temperature Forecast\")\n",
    "plt.show()"
   ]
  },
  {
   "cell_type": "code",
   "execution_count": null,
   "metadata": {},
   "outputs": [],
   "source": []
  }
 ],
 "metadata": {
  "kernelspec": {
   "display_name": "Python 3",
   "language": "python",
   "name": "python3"
  },
  "language_info": {
   "codemirror_mode": {
    "name": "ipython",
    "version": 3
   },
   "file_extension": ".py",
   "mimetype": "text/x-python",
   "name": "python",
   "nbconvert_exporter": "python",
   "pygments_lexer": "ipython3",
   "version": "3.6.9"
  }
 },
 "nbformat": 4,
 "nbformat_minor": 2
}
