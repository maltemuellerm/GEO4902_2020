{
 "cells": [
  {
   "cell_type": "code",
   "execution_count": null,
   "metadata": {},
   "outputs": [],
   "source": [
    "import matplotlib.pyplot as plt\n",
    "import numpy as np"
   ]
  },
  {
   "cell_type": "markdown",
   "metadata": {},
   "source": [
    "# Data assimilation - Multivariate PDF\n"
   ]
  },
  {
   "cell_type": "code",
   "execution_count": null,
   "metadata": {},
   "outputs": [],
   "source": [
    "from mpl_toolkits.mplot3d import Axes3D\n",
    "from matplotlib import cm\n",
    "from matplotlib.ticker import LinearLocator, FormatStrFormatter\n",
    "\n",
    "\n",
    "def plotGauss3D(mean_0,mean_1,sd_0,sd_1,rho,vminmax=None,title=None):\n",
    "# size of grid\n",
    "    N = 1000\n",
    "#  generate grid (NB -1 to 1)\n",
    "    coords = 2. * (np.arange(N+1)/float(N) - 0.5)\n",
    "    x0, x1 = np.meshgrid(coords,coords)\n",
    "    x = np.array([x0, x1])\n",
    "    dx = np.array([x0[0,1] - x0[0,0], x1[1,0] - x1[0,0]])\n",
    "    grid = dx[0] * dx[1]\n",
    "\n",
    "    # set B\n",
    "    b01 = b10 = rho * sd_0 * sd_1\n",
    "    b00 = sd_0**2\n",
    "    b11 = sd_1**2\n",
    "    B = np.matrix([[b00,b01],[b10,b11]])\n",
    "    # set xb: the mean\n",
    "    xb = np.array([mean_0,mean_1])\n",
    "\n",
    "    xxb = np.zeros_like(x)\n",
    "    for i in range(xb.shape[0]): xxb[i,...] = xb[i]\n",
    "    e = x - xxb\n",
    "\n",
    "    n = np.shape(B)[0]\n",
    "    # inverse of B\n",
    "    BI = B.I\n",
    "    # scaling term\n",
    "    scale_1 = (2.*np.pi)**(n/2) * np.sqrt(np.linalg.det(B))\n",
    "    gauss = np.exp(-0.5 * ((e[0,...] * BI[0,0] + e[1,...] * BI[0,1])* e[0,...]     \\\n",
    "                          + (e[0,...] * BI[1,0] + e[1,...] * BI[1,1])* e[1,...])) \\\n",
    "                          / scale_1\n",
    "\n",
    "    # check integral\n",
    "    #print ('integral of Gaussian:',gauss.sum() * grid)\n",
    "\n",
    "    \n",
    "    fig = plt.figure()\n",
    "    ax = fig.gca(projection='3d')\n",
    "\n",
    "    # Plot the surface.\n",
    "    surf = ax.plot_surface(x0, x1, gauss, cmap=cm.coolwarm,\n",
    "                       linewidth=0, antialiased=False)\n",
    "\n",
    "    # Customize the z axis.\n",
    "    ax.set_zlim(-.0, 5.0)\n",
    "    ax.zaxis.set_major_locator(LinearLocator(10))\n",
    "    ax.zaxis.set_major_formatter(FormatStrFormatter('%.02f'))\n",
    "\n",
    "    # Add a color bar which maps values to colors.\n",
    "    fig.colorbar(surf, shrink=0.5, aspect=5)\n",
    "    if title:\n",
    "        plt.title(title)\n",
    "    plt.show()   \n",
    "        \n",
    "  "
   ]
  },
  {
   "cell_type": "markdown",
   "metadata": {},
   "source": [
    "## Plot the Multivariate Gaussian Distribution"
   ]
  },
  {
   "cell_type": "markdown",
   "metadata": {},
   "source": [
    "$P_b(x) = \\frac{1}{(2 \\pi)^\\frac{n}{2} \\sqrt{\\det(B)}} \\exp \\left( - \\frac{1}{2} (x_b - x)^T B^{-1} (x_b - x) \\right)$"
   ]
  },
  {
   "cell_type": "markdown",
   "metadata": {},
   "source": [
    "A dimensional example with \n",
    "$x_b = (0.2,0.5)$; $\\sigma_b = (0.3,0.2)$; $\\rho=-0.5$"
   ]
  },
  {
   "cell_type": "code",
   "execution_count": null,
   "metadata": {},
   "outputs": [],
   "source": [
    "xb = [0.2,0.5]\n",
    "sb = [0.3,0.2]\n",
    "rho = -0.5\n",
    "plotGauss3D(xb[0],xb[1],sb[0],sb[1],rho)"
   ]
  },
  {
   "cell_type": "code",
   "execution_count": null,
   "metadata": {},
   "outputs": [],
   "source": []
  }
 ],
 "metadata": {
  "kernelspec": {
   "display_name": "Python 3",
   "language": "python",
   "name": "python3"
  },
  "language_info": {
   "codemirror_mode": {
    "name": "ipython",
    "version": 3
   },
   "file_extension": ".py",
   "mimetype": "text/x-python",
   "name": "python",
   "nbconvert_exporter": "python",
   "pygments_lexer": "ipython3",
   "version": "3.6.9"
  }
 },
 "nbformat": 4,
 "nbformat_minor": 2
}
