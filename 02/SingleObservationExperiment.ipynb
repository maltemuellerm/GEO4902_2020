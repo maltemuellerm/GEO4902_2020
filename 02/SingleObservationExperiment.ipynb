{
 "cells": [
  {
   "cell_type": "code",
   "execution_count": null,
   "metadata": {},
   "outputs": [],
   "source": [
    "# Activate the following in colab : \n",
    "!pip3 install netCDF4\n",
    "!apt install proj-bin libproj-dev libgeos-dev\n",
    "!pip install https://github.com/matplotlib/basemap/archive/master.zip\n",
    "    \n",
    "import xarray as xr\n",
    "import math\n",
    "import numpy as np"
   ]
  },
  {
   "cell_type": "markdown",
   "metadata": {},
   "source": [
    "# Single observation data assimilation experiment"
   ]
  },
  {
   "cell_type": "markdown",
   "metadata": {},
   "source": [
    "#### Load BACKGROUND fields of temperature,wind, and specific humidity"
   ]
  },
  {
   "cell_type": "code",
   "execution_count": null,
   "metadata": {},
   "outputs": [],
   "source": [
    "#url='https://thredds.met.no/thredds/dodsC/aromearcticarchive/2018/10/24/arome_arctic_full_2_5km_20181024T15Z.nc'\n",
    "url='https://thredds.met.no/thredds/dodsC/metusers/maltem/GEO4902_2020/remap.varn.BG.nc'\n",
    "model_background = xr.open_dataset(url)"
   ]
  },
  {
   "cell_type": "markdown",
   "metadata": {},
   "source": [
    "#### Load ANALYSIS fields of temperature,wind, and specific humidity\n",
    "#### This analysis has been produced by assimilating a radiosonde information at 500hPa"
   ]
  },
  {
   "cell_type": "code",
   "execution_count": null,
   "metadata": {},
   "outputs": [],
   "source": [
    "url='https://thredds.met.no/thredds/dodsC/metusers/maltem/GEO4902_2020/remap.varn.LPB_POS2_TEMP500.nc'\n",
    "model_analysis = xr.open_dataset(url)"
   ]
  },
  {
   "cell_type": "markdown",
   "metadata": {},
   "source": [
    "The data is stored in the original coordinates of the model, but do not worry about that. Just assume it is some kind of vertical discretization. Remember that you can look in the metadata to find the variable names and coordinate information! "
   ]
  },
  {
   "cell_type": "markdown",
   "metadata": {},
   "source": [
    "### Below are two plotting routines which yo can use to plot horizontal and vertical sections of the model. "
   ]
  },
  {
   "cell_type": "code",
   "execution_count": null,
   "metadata": {},
   "outputs": [],
   "source": [
    "from matplotlib import pyplot as plt\n",
    "from mpl_toolkits.basemap import Basemap\n",
    "\n",
    "timestep=0; modellevel=59\n",
    "\n",
    "temp_background = model_background.air_temperature[timestep,modellevel,:,:]\n",
    "temp_analysis   = model_analysis.air_temperature[timestep,modellevel,:,:]\n",
    "\n",
    "fig = plt.figure(figsize=(7.2,7.2)) #11.7\n",
    "plt.subplots_adjust(left=0.05, right=0.95, top=0.90, bottom=0.05, wspace=0.15, hspace=0.05)\n",
    "ax = plt.subplot(111)\n",
    "m = Basemap(projection='stere', \n",
    "            boundinglat=40, lon_0=10, lat_0=78.4, \n",
    "            resolution='l', \n",
    "            llcrnrlat= 50.0, urcrnrlat=72.0, llcrnrlon=-10.0, urcrnrlon=40.0)\n",
    " \n",
    "m.drawcoastlines(color='#4D5D53'); m.fillcontinents(alpha=0.2)\n",
    "parallels = np.arange(0.,90,10); m.drawparallels(parallels,labels=[1,1,1,0],fontsize=10)\n",
    "meridians = np.arange(0.,360.,10); m.drawmeridians(meridians,labels=[0,0,0,1],latmax=80,fontsize=10)\n",
    "\n",
    "x, y = m(*np.meshgrid(model_background.lon,model_background.lat))\n",
    "\n",
    "cs=m.contourf(x,y,temp_analysis,cmap=plt.cm.coolwarm,extemd='max')\n",
    "\n",
    "cbar = m.colorbar(cs,location='bottom',pad=\"5%\")  \n",
    "cbar.set_label('Temperature in degree Celcius')                  "
   ]
  },
  {
   "cell_type": "code",
   "execution_count": null,
   "metadata": {},
   "outputs": [],
   "source": [
    "fig = plt.figure(figsize=(7.2,7.2)) #11.7\n",
    "plt.subplots_adjust(left=0.05, right=0.95, top=0.90, bottom=0.05, wspace=0.15, hspace=0.05)\n",
    "ax = plt.subplot(111)\n",
    "\n",
    "\n",
    "timestep=0; seclat=20; # Intersection at latitude model_analysis.lat[seclat]\n",
    "\n",
    "tempvert_background =  np.array(model_background.air_temperature[timestep,:,seclat,:])\n",
    "tempvert_analysis   =  np.array(model_analysis.air_temperature[timestep,:,seclat,:])\n",
    "\n",
    "windvert_background=np.sqrt(np.array(model_background.x_wind[timestep,:,seclat,:]**2+model_background.y_wind[timestep,:,seclat,:]**2))\n",
    "windvert_analysis  =np.sqrt(np.array(model_analysis.x_wind[timestep,:,seclat,:])**2+np.array(model_analysis.y_wind[timestep,:,seclat,:])**2)\n",
    "\n",
    "humidvert_background =  np.array(model_background.specific_humidity[timestep,:,seclat,:])\n",
    "humidvert_analysis   =  np.array(model_analysis.specific_humidity[timestep,:,seclat,:])\n",
    "\n",
    "cs=ax.pcolor(model_background.lon, range(1,61),tempvert_background, cmap=plt.cm.coolwarm)\n",
    "\n",
    "plt.gca().invert_yaxis()\n",
    "cbar = m.colorbar(cs,location='bottom',pad=\"5%\")  \n",
    "cbar.set_label('Temperature in degree Celcius')   \n",
    "#fig.colorbar(c, ax=ax1)"
   ]
  }
 ],
 "metadata": {
  "kernelspec": {
   "display_name": "Python 3",
   "language": "python",
   "name": "python3"
  },
  "language_info": {
   "codemirror_mode": {
    "name": "ipython",
    "version": 3
   },
   "file_extension": ".py",
   "mimetype": "text/x-python",
   "name": "python",
   "nbconvert_exporter": "python",
   "pygments_lexer": "ipython3",
   "version": "3.6.9"
  }
 },
 "nbformat": 4,
 "nbformat_minor": 2
}
