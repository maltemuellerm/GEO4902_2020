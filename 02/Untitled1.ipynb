{
 "cells": [
  {
   "cell_type": "code",
   "execution_count": null,
   "metadata": {},
   "outputs": [],
   "source": [
    "import numpy as np, scipy.stats as st, scikits.bootstrap as boot\n",
    "data = np.array([ 22.20379411,  22.99151292,  24.27032696,  24.82180626,\n",
    "  25.23163221,  25.39987272,  25.54514567,  28.56710007,\n",
    "  29.7575898 ,  30.15641696,  30.79168255,  30.88147532,\n",
    "  31.0236419 ,  31.17380647,  31.61932755,  32.23452568,\n",
    "  32.76262978,  33.39430032,  33.81080069,  33.90625861,\n",
    "  33.99142006,  35.45748368,  37.0342621 ,  37.14768791,\n",
    "  38.14350221,  42.72699534,  44.16449992,  48.77736737,\n",
    "  49.80441736,  50.57488779])\n",
    "\n",
    "st.genextreme.fit(data)   # just to check the parameters\n",
    "boot.ci(data, st.genextreme.fit)"
   ]
  },
  {
   "cell_type": "code",
   "execution_count": null,
   "metadata": {},
   "outputs": [],
   "source": []
  }
 ],
 "metadata": {
  "kernelspec": {
   "display_name": "Python 3",
   "language": "python",
   "name": "python3"
  },
  "language_info": {
   "codemirror_mode": {
    "name": "ipython",
    "version": 3
   },
   "file_extension": ".py",
   "mimetype": "text/x-python",
   "name": "python",
   "nbconvert_exporter": "python",
   "pygments_lexer": "ipython3",
   "version": "3.6.9"
  }
 },
 "nbformat": 4,
 "nbformat_minor": 2
}
